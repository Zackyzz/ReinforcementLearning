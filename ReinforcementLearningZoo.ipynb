{
 "cells": [
  {
   "cell_type": "code",
   "execution_count": 38,
   "metadata": {},
   "outputs": [],
   "source": [
    "from pettingzoo.classic import chess_v5\n",
    "env = chess_v5.env(render_mode=\"human\")"
   ]
  },
  {
   "cell_type": "code",
   "execution_count": 39,
   "metadata": {},
   "outputs": [
    {
     "name": "stdout",
     "output_type": "stream",
     "text": [
      "r n b q k b n r\n",
      "p p p p p p p p\n",
      ". . . . . . . .\n",
      ". . . . . . . .\n",
      ". . . . . . . .\n",
      ". . . . . . . .\n",
      "P P P P P P P P\n",
      "R N B Q K B N R\n"
     ]
    }
   ],
   "source": [
    "env.reset()\n",
    "env.render()"
   ]
  },
  {
   "cell_type": "code",
   "execution_count": 40,
   "metadata": {},
   "outputs": [
    {
     "name": "stdout",
     "output_type": "stream",
     "text": [
      "[77, 85, 643, 645, 661, 669, 1245, 1253, 1829, 1837, 2413, 2421, 2997, 3005, 3563, 3565, 3581, 3589, 4165, 4173]\n",
      "[]\n"
     ]
    }
   ],
   "source": [
    "def get_moves(player):\n",
    "    all_actions = env.observe(player)\n",
    "    legal_moves = []\n",
    "    for i in range(8*8*73):\n",
    "        if all_actions['action_mask'][i] == 1:\n",
    "            legal_moves += [i]\n",
    "    return legal_moves\n",
    "\n",
    "print(get_moves('player_0'))\n",
    "print(get_moves('player_1'))"
   ]
  },
  {
   "cell_type": "code",
   "execution_count": 41,
   "metadata": {},
   "outputs": [
    {
     "name": "stdout",
     "output_type": "stream",
     "text": [
      "r n b q k b n r\n",
      "p p p p p p p p\n",
      ". . . . . . . .\n",
      ". . . . . . . .\n",
      ". . . . P . . .\n",
      ". . . . . . . .\n",
      "P P P P . P P P\n",
      "R N B Q K B N R\n",
      "[]\n",
      "[77, 85, 643, 645, 661, 669, 1245, 1253, 1829, 1837, 2413, 2421, 2997, 3005, 3563, 3565, 3581, 3589, 4165, 4173]\n"
     ]
    }
   ],
   "source": [
    "current_moves = get_moves('player_0')\n",
    "env.step(current_moves[11])\n",
    "print(get_moves('player_0'))\n",
    "print(get_moves('player_1'))"
   ]
  },
  {
   "cell_type": "code",
   "execution_count": 42,
   "metadata": {},
   "outputs": [
    {
     "name": "stdout",
     "output_type": "stream",
     "text": [
      "r n b q k b n r\n",
      "p p p p . p p p\n",
      ". . . . . . . .\n",
      ". . . . p . . .\n",
      ". . . . P . . .\n",
      ". . . . . . . .\n",
      "P P P P . P P P\n",
      "R N B Q K B N R\n",
      "[77, 85, 643, 645, 661, 669, 1245, 1253, 1759, 1767, 1775, 1783, 1829, 1837, 2340, 2922, 2930, 2938, 2946, 2954, 2997, 3005, 3561, 3563, 3565, 3581, 3589, 4165, 4173]\n",
      "[]\n"
     ]
    }
   ],
   "source": [
    "current_moves = get_moves('player_1') \n",
    "env.step(current_moves[11])\n",
    "print(get_moves('player_0'))\n",
    "print(get_moves('player_1'))"
   ]
  },
  {
   "cell_type": "code",
   "execution_count": 43,
   "metadata": {},
   "outputs": [
    {
     "name": "stdout",
     "output_type": "stream",
     "text": [
      "r n b q k b n r\n",
      "p p p p . p p p\n",
      ". . . . . . . .\n",
      ". . . . p . . .\n",
      ". . . . P . . .\n",
      ". . . . . N . .\n",
      "P P P P . P P P\n",
      "R N B Q K B . R\n",
      "[]\n",
      "[77, 85, 643, 645, 661, 669, 1245, 1253, 1759, 1767, 1775, 1783, 1829, 1837, 2340, 2922, 2930, 2938, 2946, 2954, 2997, 3005, 3561, 3563, 3565, 3581, 3589, 4165, 4173]\n"
     ]
    }
   ],
   "source": [
    "current_moves = get_moves('player_0') \n",
    "env.step(current_moves[23])\n",
    "print(get_moves('player_0'))\n",
    "print(get_moves('player_1'))"
   ]
  },
  {
   "cell_type": "code",
   "execution_count": 44,
   "metadata": {},
   "outputs": [
    {
     "name": "stdout",
     "output_type": "stream",
     "text": [
      "     |     |     \n",
      "  -  |  -  |  -  \n",
      "_____|_____|_____\n",
      "     |     |     \n",
      "  -  |  -  |  -  \n",
      "_____|_____|_____\n",
      "     |     |     \n",
      "  -  |  -  |  -  \n",
      "     |     |     \n"
     ]
    }
   ],
   "source": [
    "from pettingzoo.classic import tictactoe_v3\n",
    "env2 = tictactoe_v3.env(render_mode=\"human\")\n",
    "env2.reset()\n",
    "env2.render()"
   ]
  },
  {
   "cell_type": "code",
   "execution_count": 45,
   "metadata": {},
   "outputs": [
    {
     "name": "stdout",
     "output_type": "stream",
     "text": [
      "     |     |     \n",
      "  -  |  -  |  -  \n",
      "_____|_____|_____\n",
      "     |     |     \n",
      "  X  |  -  |  -  \n",
      "_____|_____|_____\n",
      "     |     |     \n",
      "  -  |  -  |  -  \n",
      "     |     |     \n",
      "     |     |     \n",
      "  -  |  O  |  -  \n",
      "_____|_____|_____\n",
      "     |     |     \n",
      "  X  |  -  |  -  \n",
      "_____|_____|_____\n",
      "     |     |     \n",
      "  -  |  -  |  -  \n",
      "     |     |     \n",
      "     |     |     \n",
      "  X  |  O  |  -  \n",
      "_____|_____|_____\n",
      "     |     |     \n",
      "  X  |  -  |  -  \n",
      "_____|_____|_____\n",
      "     |     |     \n",
      "  -  |  -  |  -  \n",
      "     |     |     \n",
      "     |     |     \n",
      "  X  |  O  |  -  \n",
      "_____|_____|_____\n",
      "     |     |     \n",
      "  X  |  -  |  -  \n",
      "_____|_____|_____\n",
      "     |     |     \n",
      "  -  |  -  |  -  \n",
      "     |     |     \n"
     ]
    }
   ],
   "source": [
    "env2.step(1)\n",
    "env2.step(3)\n",
    "env2.step(0)\n",
    "env2.render()"
   ]
  }
 ],
 "metadata": {
  "kernelspec": {
   "display_name": "base",
   "language": "python",
   "name": "python3"
  },
  "language_info": {
   "codemirror_mode": {
    "name": "ipython",
    "version": 3
   },
   "file_extension": ".py",
   "mimetype": "text/x-python",
   "name": "python",
   "nbconvert_exporter": "python",
   "pygments_lexer": "ipython3",
   "version": "3.9.7"
  },
  "orig_nbformat": 4,
  "vscode": {
   "interpreter": {
    "hash": "2572ea1b1ef9c8d2ad1a91dec6289fcd3897516dc536ea19b4e38370c1a20702"
   }
  }
 },
 "nbformat": 4,
 "nbformat_minor": 2
}
